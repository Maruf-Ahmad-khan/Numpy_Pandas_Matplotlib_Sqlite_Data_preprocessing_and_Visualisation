{
 "cells": [
  {
   "cell_type": "markdown",
   "id": "3b0cdbc1",
   "metadata": {},
   "source": [
    "# Text Analysis"
   ]
  },
  {
   "cell_type": "code",
   "execution_count": 47,
   "id": "e9567ffe",
   "metadata": {},
   "outputs": [],
   "source": [
    "filename = \"source.text\""
   ]
  },
  {
   "cell_type": "code",
   "execution_count": 48,
   "id": "34e9acc3",
   "metadata": {},
   "outputs": [
    {
     "data": {
      "text/plain": [
       "'source.text'"
      ]
     },
     "execution_count": 48,
     "metadata": {},
     "output_type": "execute_result"
    }
   ],
   "source": [
    "filename"
   ]
  },
  {
   "cell_type": "markdown",
   "id": "1180c670",
   "metadata": {},
   "source": [
    "filename = r\"C:\\Users\\mk744\\Downloads\\6th sem books\\source.txt\""
   ]
  },
  {
   "cell_type": "markdown",
   "id": "a29230b0",
   "metadata": {
    "scrolled": true
   },
   "source": [
    "# Reading the file"
   ]
  },
  {
   "cell_type": "code",
   "execution_count": 49,
   "id": "9d96fdf7",
   "metadata": {},
   "outputs": [],
   "source": [
    "filename = r\"C:\\Users\\mk744\\Downloads\\6th sem books\\source.txt\""
   ]
  },
  {
   "cell_type": "code",
   "execution_count": 50,
   "id": "da53be88",
   "metadata": {},
   "outputs": [
    {
     "data": {
      "text/plain": [
       "'C:\\\\Users\\\\mk744\\\\Downloads\\\\6th sem books\\\\source.txt'"
      ]
     },
     "execution_count": 50,
     "metadata": {},
     "output_type": "execute_result"
    }
   ],
   "source": [
    "filename"
   ]
  },
  {
   "cell_type": "markdown",
   "id": "16dc0ed4",
   "metadata": {},
   "source": [
    "# Open the file"
   ]
  },
  {
   "cell_type": "code",
   "execution_count": 51,
   "id": "4f3b7a42",
   "metadata": {},
   "outputs": [],
   "source": [
    "file = open(filename, mode = 'r')"
   ]
  },
  {
   "cell_type": "code",
   "execution_count": 52,
   "id": "555044e1",
   "metadata": {},
   "outputs": [
    {
     "name": "stdout",
     "output_type": "stream",
     "text": [
      "<_io.TextIOWrapper name='C:\\\\Users\\\\mk744\\\\Downloads\\\\6th sem books\\\\source.txt' mode='r' encoding='cp1252'>\n"
     ]
    }
   ],
   "source": [
    "print(file)"
   ]
  },
  {
   "cell_type": "markdown",
   "id": "e90a4f46",
   "metadata": {},
   "source": [
    "# Read the file"
   ]
  },
  {
   "cell_type": "code",
   "execution_count": 53,
   "id": "1ee8b3fb",
   "metadata": {},
   "outputs": [
    {
     "data": {
      "text/plain": [
       "'This is the simplest plain text file!'"
      ]
     },
     "execution_count": 53,
     "metadata": {},
     "output_type": "execute_result"
    }
   ],
   "source": [
    "file.read()"
   ]
  },
  {
   "cell_type": "code",
   "execution_count": 54,
   "id": "ca5968c0",
   "metadata": {},
   "outputs": [
    {
     "data": {
      "text/plain": [
       "'This is the simplest plain text file!'"
      ]
     },
     "execution_count": 54,
     "metadata": {},
     "output_type": "execute_result"
    }
   ],
   "source": [
    "file = open(filename , mode = 'r')\n",
    "text = file.read()\n",
    "text"
   ]
  },
  {
   "cell_type": "markdown",
   "id": "be19f092",
   "metadata": {},
   "source": [
    "# Not closing a file means that you will keep the connection between the python code and the file directories of your computer live"
   ]
  },
  {
   "cell_type": "code",
   "execution_count": 55,
   "id": "242e5ac2",
   "metadata": {},
   "outputs": [
    {
     "data": {
      "text/plain": [
       "False"
      ]
     },
     "execution_count": 55,
     "metadata": {},
     "output_type": "execute_result"
    }
   ],
   "source": [
    "file.closed"
   ]
  },
  {
   "cell_type": "code",
   "execution_count": 56,
   "id": "d5948fa3",
   "metadata": {},
   "outputs": [],
   "source": [
    "file.close()"
   ]
  },
  {
   "cell_type": "code",
   "execution_count": 57,
   "id": "0f831b6a",
   "metadata": {},
   "outputs": [
    {
     "data": {
      "text/plain": [
       "True"
      ]
     },
     "execution_count": 57,
     "metadata": {},
     "output_type": "execute_result"
    }
   ],
   "source": [
    "file.closed"
   ]
  },
  {
   "cell_type": "markdown",
   "id": "fda5ecfc",
   "metadata": {},
   "source": [
    "# The string we've created and the content of the original text file are two seperate things"
   ]
  },
  {
   "cell_type": "code",
   "execution_count": 60,
   "id": "7d65b11f",
   "metadata": {},
   "outputs": [
    {
     "name": "stdout",
     "output_type": "stream",
     "text": [
      "This is the simplest plain text file!\n"
     ]
    }
   ],
   "source": [
    "print(text)"
   ]
  },
  {
   "cell_type": "markdown",
   "id": "17c0b19e",
   "metadata": {},
   "source": [
    "# Make sure you always close all connections to your file system that you open"
   ]
  }
 ],
 "metadata": {
  "kernelspec": {
   "display_name": "Python 3 (ipykernel)",
   "language": "python",
   "name": "python3"
  },
  "language_info": {
   "codemirror_mode": {
    "name": "ipython",
    "version": 3
   },
   "file_extension": ".py",
   "mimetype": "text/x-python",
   "name": "python",
   "nbconvert_exporter": "python",
   "pygments_lexer": "ipython3",
   "version": "3.9.12"
  }
 },
 "nbformat": 4,
 "nbformat_minor": 5
}
