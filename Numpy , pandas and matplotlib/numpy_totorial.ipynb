{
 "cells": [
  {
   "cell_type": "code",
   "execution_count": 9,
   "id": "ea6371cb-a5da-4698-9bd9-e8749203dc2e",
   "metadata": {},
   "outputs": [
    {
     "data": {
      "text/plain": [
       "array([[0, 2],\n",
       "       [0, 2]])"
      ]
     },
     "execution_count": 9,
     "metadata": {},
     "output_type": "execute_result"
    }
   ],
   "source": [
    "#create a two by two array:\n",
    "import numpy as np\n",
    "m=np.array([[0,2],[0,2]])\n",
    "m"
   ]
  },
  {
   "cell_type": "code",
   "execution_count": 1,
   "id": "81e4c6fa-a0cf-46f7-95d6-e70a64e80d72",
   "metadata": {},
   "outputs": [
    {
     "data": {
      "text/plain": [
       "array([1, 2, 3])"
      ]
     },
     "execution_count": 1,
     "metadata": {},
     "output_type": "execute_result"
    }
   ],
   "source": [
    "import numpy as np\n",
    "a=np.array([1,2,3])\n",
    "a"
   ]
  },
  {
   "cell_type": "code",
   "execution_count": 3,
   "id": "20e1f454-0b85-4f3d-864d-1d3aaf93b246",
   "metadata": {},
   "outputs": [
    {
     "data": {
      "text/plain": [
       "array([0, 5])"
      ]
     },
     "execution_count": 3,
     "metadata": {},
     "output_type": "execute_result"
    }
   ],
   "source": [
    "import numpy as np\n",
    "np. arange(0,10,5)\n"
   ]
  },
  {
   "cell_type": "code",
   "execution_count": 4,
   "id": "c84384a4-9053-4459-b995-73414ef74feb",
   "metadata": {},
   "outputs": [
    {
     "data": {
      "text/plain": [
       "array([0.        , 0.55555556, 1.11111111, 1.66666667, 2.22222222,\n",
       "       2.77777778, 3.33333333, 3.88888889, 4.44444444, 5.        ])"
      ]
     },
     "execution_count": 4,
     "metadata": {},
     "output_type": "execute_result"
    }
   ],
   "source": [
    "#use of linspace\n",
    "import numpy as np\n",
    "np.linspace(0,5,10)"
   ]
  },
  {
   "cell_type": "code",
   "execution_count": 5,
   "id": "9a176b1a-7127-4cca-882b-9f86c6b45b87",
   "metadata": {},
   "outputs": [
    {
     "data": {
      "text/plain": [
       "array([0.        , 0.54545455, 1.09090909, 1.63636364, 2.18181818,\n",
       "       2.72727273, 3.27272727, 3.81818182, 4.36363636, 4.90909091,\n",
       "       5.45454545, 6.        ])"
      ]
     },
     "execution_count": 5,
     "metadata": {},
     "output_type": "execute_result"
    }
   ],
   "source": [
    "import numpy as np\n",
    "np.linspace(0,6,12)"
   ]
  },
  {
   "cell_type": "code",
   "execution_count": 6,
   "id": "cdb51013-0e4d-4e1d-a829-9df261f94dac",
   "metadata": {},
   "outputs": [
    {
     "data": {
      "text/plain": [
       "array([0.        , 0.53846154, 1.07692308, 1.61538462, 2.15384615,\n",
       "       2.69230769, 3.23076923, 3.76923077, 4.30769231, 4.84615385,\n",
       "       5.38461538, 5.92307692, 6.46153846, 7.        ])"
      ]
     },
     "execution_count": 6,
     "metadata": {},
     "output_type": "execute_result"
    }
   ],
   "source": [
    "import numpy as np\n",
    "np.linspace(0,7,14)"
   ]
  },
  {
   "cell_type": "code",
   "execution_count": 22,
   "id": "cbd2ad75-65f8-4d97-9b35-c067e1f1bd5b",
   "metadata": {},
   "outputs": [
    {
     "data": {
      "text/plain": [
       "array([1, 2, 3])"
      ]
     },
     "execution_count": 22,
     "metadata": {},
     "output_type": "execute_result"
    }
   ],
   "source": [
    "#create an array in numpy\n",
    "import numpy as np\n",
    "b=np.array([1,2,3])\n",
    "b"
   ]
  },
  {
   "cell_type": "code",
   "execution_count": 23,
   "id": "1da1bab9-4055-48b8-9919-0770b110e5c7",
   "metadata": {},
   "outputs": [
    {
     "data": {
      "text/plain": [
       "numpy.ndarray"
      ]
     },
     "execution_count": 23,
     "metadata": {},
     "output_type": "execute_result"
    }
   ],
   "source": [
    "# to know it is ndarray or not\n",
    "type(b)"
   ]
  },
  {
   "cell_type": "code",
   "execution_count": 24,
   "id": "ce51a1d4-a988-4d8e-b443-071b82baa399",
   "metadata": {},
   "outputs": [
    {
     "data": {
      "text/plain": [
       "dtype('int32')"
      ]
     },
     "execution_count": 24,
     "metadata": {},
     "output_type": "execute_result"
    }
   ],
   "source": [
    "# to check its data type\n",
    "b.dtype"
   ]
  },
  {
   "cell_type": "code",
   "execution_count": 26,
   "id": "74ad3d74-95b6-4bfd-adbf-8941785e0b1e",
   "metadata": {},
   "outputs": [
    {
     "data": {
      "text/plain": [
       "1"
      ]
     },
     "execution_count": 26,
     "metadata": {},
     "output_type": "execute_result"
    }
   ],
   "source": [
    "# to know its axes and rank\n",
    "b.ndim"
   ]
  },
  {
   "cell_type": "code",
   "execution_count": 28,
   "id": "4c37446b-4da7-4674-a5b4-d3ebf83a4265",
   "metadata": {},
   "outputs": [
    {
     "data": {
      "text/plain": [
       "3"
      ]
     },
     "execution_count": 28,
     "metadata": {},
     "output_type": "execute_result"
    }
   ],
   "source": [
    "# to know its length\n",
    "b.size"
   ]
  },
  {
   "cell_type": "code",
   "execution_count": 30,
   "id": "68371750-2f81-46e6-a75c-32025c9309f5",
   "metadata": {},
   "outputs": [
    {
     "data": {
      "text/plain": [
       "(3,)"
      ]
     },
     "execution_count": 30,
     "metadata": {},
     "output_type": "execute_result"
    }
   ],
   "source": [
    "# to know its shape\n",
    "b.shape"
   ]
  },
  {
   "cell_type": "code",
   "execution_count": 31,
   "id": "ea452e9e-6296-4b1d-88df-ff3fee7de38a",
   "metadata": {},
   "outputs": [
    {
     "data": {
      "text/plain": [
       "array([[1.2, 1.3],\n",
       "       [1.4, 1.5]])"
      ]
     },
     "execution_count": 31,
     "metadata": {},
     "output_type": "execute_result"
    }
   ],
   "source": [
    "#Create two dimensional array 2x2\n",
    "import numpy as np\n",
    "a=np.array([[1.2, 1.3], [1.4,1.5]])\n",
    "a"
   ]
  },
  {
   "cell_type": "code",
   "execution_count": 32,
   "id": "e0349b36-e7ce-4a00-aa6e-ddd421e11d71",
   "metadata": {},
   "outputs": [
    {
     "data": {
      "text/plain": [
       "dtype('float64')"
      ]
     },
     "execution_count": 32,
     "metadata": {},
     "output_type": "execute_result"
    }
   ],
   "source": [
    "a.dtype"
   ]
  },
  {
   "cell_type": "code",
   "execution_count": 33,
   "id": "2ad70964-a3b4-48a9-95cd-840c5d50653e",
   "metadata": {},
   "outputs": [
    {
     "data": {
      "text/plain": [
       "(2, 2)"
      ]
     },
     "execution_count": 33,
     "metadata": {},
     "output_type": "execute_result"
    }
   ],
   "source": [
    "a.shape"
   ]
  },
  {
   "cell_type": "code",
   "execution_count": 34,
   "id": "6efe7ed1-0543-4bf9-96d2-411f2a1cf2d7",
   "metadata": {},
   "outputs": [
    {
     "data": {
      "text/plain": [
       "4"
      ]
     },
     "execution_count": 34,
     "metadata": {},
     "output_type": "execute_result"
    }
   ],
   "source": [
    "a.size"
   ]
  },
  {
   "cell_type": "code",
   "execution_count": 35,
   "id": "575b94c3-2fee-47b2-9f3a-f62578d495b1",
   "metadata": {},
   "outputs": [
    {
     "data": {
      "text/plain": [
       "2"
      ]
     },
     "execution_count": 35,
     "metadata": {},
     "output_type": "execute_result"
    }
   ],
   "source": [
    "a.ndim"
   ]
  },
  {
   "cell_type": "code",
   "execution_count": 36,
   "id": "d37f19cb-c489-430e-87dc-4e39508c827b",
   "metadata": {},
   "outputs": [
    {
     "data": {
      "text/plain": [
       "8"
      ]
     },
     "execution_count": 36,
     "metadata": {},
     "output_type": "execute_result"
    }
   ],
   "source": [
    "# itemsize attribut tells the size of array in bytes\n",
    "a.itemsize"
   ]
  },
  {
   "cell_type": "code",
   "execution_count": 37,
   "id": "d98d5f68-a4df-4633-ad7c-c33122817de0",
   "metadata": {},
   "outputs": [
    {
     "data": {
      "text/plain": [
       "<memory at 0x000001EC480841E0>"
      ]
     },
     "execution_count": 37,
     "metadata": {},
     "output_type": "execute_result"
    }
   ],
   "source": [
    "# data attribute tells the actual elements in array\n",
    "a.data"
   ]
  },
  {
   "cell_type": "code",
   "execution_count": 38,
   "id": "be7a80ce-0335-401d-a5c6-0b20662ce010",
   "metadata": {},
   "outputs": [
    {
     "data": {
      "text/plain": [
       "array([[1, 2, 3],\n",
       "       [4, 5, 6]])"
      ]
     },
     "execution_count": 38,
     "metadata": {},
     "output_type": "execute_result"
    }
   ],
   "source": [
    "# create an array\n",
    "import numpy as np\n",
    "c=np.array([[1,2,3],[4,5,6]])\n",
    "c"
   ]
  },
  {
   "cell_type": "code",
   "execution_count": 39,
   "id": "f335ebd9-0afc-48ab-9e11-7a45d630bfa1",
   "metadata": {},
   "outputs": [
    {
     "data": {
      "text/plain": [
       "dtype('int32')"
      ]
     },
     "execution_count": 39,
     "metadata": {},
     "output_type": "execute_result"
    }
   ],
   "source": [
    "c.dtype"
   ]
  },
  {
   "cell_type": "code",
   "execution_count": 40,
   "id": "b1b50bdc-9a6b-4bd7-bce0-0e87a570604e",
   "metadata": {},
   "outputs": [
    {
     "data": {
      "text/plain": [
       "6"
      ]
     },
     "execution_count": 40,
     "metadata": {},
     "output_type": "execute_result"
    }
   ],
   "source": [
    "c.size"
   ]
  },
  {
   "cell_type": "code",
   "execution_count": 41,
   "id": "c72c5371-5653-44f2-94f8-4822fe526c5f",
   "metadata": {},
   "outputs": [
    {
     "data": {
      "text/plain": [
       "(2, 3)"
      ]
     },
     "execution_count": 41,
     "metadata": {},
     "output_type": "execute_result"
    }
   ],
   "source": [
    "c.shape"
   ]
  },
  {
   "cell_type": "code",
   "execution_count": 42,
   "id": "b1381b93-b707-4316-9e56-3c876b7b5a7e",
   "metadata": {},
   "outputs": [
    {
     "data": {
      "text/plain": [
       "4"
      ]
     },
     "execution_count": 42,
     "metadata": {},
     "output_type": "execute_result"
    }
   ],
   "source": [
    "c.itemsize"
   ]
  },
  {
   "cell_type": "code",
   "execution_count": 43,
   "id": "3f6d53d2-0582-48b8-8d62-14c5bae417ee",
   "metadata": {},
   "outputs": [
    {
     "data": {
      "text/plain": [
       "<memory at 0x000001EC480842B0>"
      ]
     },
     "execution_count": 43,
     "metadata": {},
     "output_type": "execute_result"
    }
   ],
   "source": [
    "c.data"
   ]
  },
  {
   "cell_type": "code",
   "execution_count": 44,
   "id": "16f5e223-fc3a-43c9-b56c-294c5826af19",
   "metadata": {},
   "outputs": [
    {
     "data": {
      "text/plain": [
       "2"
      ]
     },
     "execution_count": 44,
     "metadata": {},
     "output_type": "execute_result"
    }
   ],
   "source": [
    "c.ndim"
   ]
  },
  {
   "cell_type": "code",
   "execution_count": 45,
   "id": "612201c9-ed24-4def-aeab-b6233db792dd",
   "metadata": {},
   "outputs": [],
   "source": [
    "# create another array\n",
    "import numpy as np\n",
    "d=np.array(((1,2,3),[4,5,6],(7,8,9)))"
   ]
  },
  {
   "cell_type": "code",
   "execution_count": 46,
   "id": "3b29a9f0-d59b-47aa-b0d6-68cba8b52d36",
   "metadata": {},
   "outputs": [
    {
     "data": {
      "text/plain": [
       "array([[1, 2, 3],\n",
       "       [4, 5, 6],\n",
       "       [7, 8, 9]])"
      ]
     },
     "execution_count": 46,
     "metadata": {},
     "output_type": "execute_result"
    }
   ],
   "source": [
    "d"
   ]
  },
  {
   "cell_type": "code",
   "execution_count": 47,
   "id": "cb4147b9-73a3-4edc-ad86-8d1d4b005a23",
   "metadata": {},
   "outputs": [],
   "source": [
    "# create another array using tuple\n",
    "import numpy as np\n",
    "e=np.array(((1.1,1.2,1.3),(1.4,1.5,1.6),(1.7,1.8,1.9)))"
   ]
  },
  {
   "cell_type": "code",
   "execution_count": 48,
   "id": "3b27d8ca-5690-4545-9cb1-be6c9439f91e",
   "metadata": {},
   "outputs": [
    {
     "data": {
      "text/plain": [
       "array([[1.1, 1.2, 1.3],\n",
       "       [1.4, 1.5, 1.6],\n",
       "       [1.7, 1.8, 1.9]])"
      ]
     },
     "execution_count": 48,
     "metadata": {},
     "output_type": "execute_result"
    }
   ],
   "source": [
    "e"
   ]
  },
  {
   "cell_type": "code",
   "execution_count": 54,
   "id": "afb20218-43a8-43e7-8630-9532cedef39a",
   "metadata": {},
   "outputs": [
    {
     "data": {
      "text/plain": [
       "'float64'"
      ]
     },
     "execution_count": 54,
     "metadata": {},
     "output_type": "execute_result"
    }
   ],
   "source": [
    "e.dtype\n",
    "e.dtype.name"
   ]
  },
  {
   "cell_type": "code",
   "execution_count": 50,
   "id": "f13dd9f4-e28b-4afc-a55d-0b6640cd611c",
   "metadata": {},
   "outputs": [],
   "source": [
    "# create another data type ndarray\n",
    "import numpy as np\n",
    "d=np.array([['a', 'b'],['c','d']])\n",
    "             "
   ]
  },
  {
   "cell_type": "code",
   "execution_count": 51,
   "id": "7af1e2f4-06c6-48cd-890f-4c9beb3927bf",
   "metadata": {},
   "outputs": [
    {
     "data": {
      "text/plain": [
       "array([['a', 'b'],\n",
       "       ['c', 'd']], dtype='<U1')"
      ]
     },
     "execution_count": 51,
     "metadata": {},
     "output_type": "execute_result"
    }
   ],
   "source": [
    "d"
   ]
  },
  {
   "cell_type": "code",
   "execution_count": 52,
   "id": "3f6cc20d-fd37-4eaf-b9c0-05348d1d680e",
   "metadata": {},
   "outputs": [
    {
     "data": {
      "text/plain": [
       "dtype('<U1')"
      ]
     },
     "execution_count": 52,
     "metadata": {},
     "output_type": "execute_result"
    }
   ],
   "source": [
    "d.dtype"
   ]
  },
  {
   "cell_type": "code",
   "execution_count": 53,
   "id": "0f314a9c-4aae-4785-8012-94c9f2327b3a",
   "metadata": {},
   "outputs": [
    {
     "data": {
      "text/plain": [
       "'str32'"
      ]
     },
     "execution_count": 53,
     "metadata": {},
     "output_type": "execute_result"
    }
   ],
   "source": [
    "d.dtype.name"
   ]
  },
  {
   "cell_type": "code",
   "execution_count": 55,
   "id": "0d60946a-41ad-4de1-959b-fb55498f246b",
   "metadata": {},
   "outputs": [],
   "source": [
    "# to create a dtype array\n",
    "import numpy as np\n",
    "f=np.array([[1,2,3],[4,5,6]], dtype=complex)"
   ]
  },
  {
   "cell_type": "code",
   "execution_count": 56,
   "id": "5c5b5f49-2aac-4b32-9fee-f94ceed2de2c",
   "metadata": {},
   "outputs": [
    {
     "data": {
      "text/plain": [
       "array([[1.+0.j, 2.+0.j, 3.+0.j],\n",
       "       [4.+0.j, 5.+0.j, 6.+0.j]])"
      ]
     },
     "execution_count": 56,
     "metadata": {},
     "output_type": "execute_result"
    }
   ],
   "source": [
    "f"
   ]
  },
  {
   "cell_type": "code",
   "execution_count": 57,
   "id": "677ddc0d-bc9e-4ebf-a7c7-d28acd3b157d",
   "metadata": {},
   "outputs": [
    {
     "data": {
      "text/plain": [
       "dtype('complex128')"
      ]
     },
     "execution_count": 57,
     "metadata": {},
     "output_type": "execute_result"
    }
   ],
   "source": [
    "\n",
    "f.dtype"
   ]
  },
  {
   "cell_type": "code",
   "execution_count": 58,
   "id": "aba6328e-66cf-4431-baf9-18a269981cf9",
   "metadata": {},
   "outputs": [
    {
     "data": {
      "text/plain": [
       "array([[0., 0., 0.],\n",
       "       [0., 0., 0.],\n",
       "       [0., 0., 0.]])"
      ]
     },
     "execution_count": 58,
     "metadata": {},
     "output_type": "execute_result"
    }
   ],
   "source": [
    "# create intrinsic ndarray\n",
    "import numpy as np\n",
    "np.zeros((3,3))"
   ]
  },
  {
   "cell_type": "code",
   "execution_count": 59,
   "id": "1679da0e-48c7-42cf-bf1a-5836d03d4e67",
   "metadata": {},
   "outputs": [
    {
     "data": {
      "text/plain": [
       "array([[1., 1., 1.],\n",
       "       [1., 1., 1.]])"
      ]
     },
     "execution_count": 59,
     "metadata": {},
     "output_type": "execute_result"
    }
   ],
   "source": [
    "import numpy as np\n",
    "np.ones((2,3))"
   ]
  },
  {
   "cell_type": "code",
   "execution_count": 60,
   "id": "e5f6787c-09cf-478a-9940-6b0ab1024631",
   "metadata": {},
   "outputs": [
    {
     "data": {
      "text/plain": [
       "array([0, 1, 2, 3, 4, 5, 6, 7, 8, 9])"
      ]
     },
     "execution_count": 60,
     "metadata": {},
     "output_type": "execute_result"
    }
   ],
   "source": [
    "#to use arange function\n",
    "import numpy as np\n",
    "np.arange(0,10)"
   ]
  },
  {
   "cell_type": "code",
   "execution_count": 68,
   "id": "1bd21f63-ad8b-482e-8f48-b4a2c292d35e",
   "metadata": {},
   "outputs": [
    {
     "data": {
      "text/plain": [
       "array([[ 0,  1,  2,  3,  4],\n",
       "       [ 5,  6,  7,  8,  9],\n",
       "       [10, 11, 12, 13, 14]])"
      ]
     },
     "execution_count": 68,
     "metadata": {},
     "output_type": "execute_result"
    }
   ],
   "source": [
    "import numpy as np\n",
    "np.arange(0,15).reshape(3,5)"
   ]
  },
  {
   "cell_type": "code",
   "execution_count": 69,
   "id": "e470b9b0-05f0-4b7f-8217-64585481234d",
   "metadata": {},
   "outputs": [
    {
     "data": {
      "text/plain": [
       "array([[ 0,  1,  2,  3,  4],\n",
       "       [ 5,  6,  7,  8,  9],\n",
       "       [10, 11, 12, 13, 14],\n",
       "       [15, 16, 17, 18, 19]])"
      ]
     },
     "execution_count": 69,
     "metadata": {},
     "output_type": "execute_result"
    }
   ],
   "source": [
    "# to generate two D array from one D array\n",
    "import numpy as np\n",
    "np.arange(0,20).reshape(4,5)"
   ]
  },
  {
   "cell_type": "code",
   "execution_count": 1,
   "id": "fa779ec4-e52b-4fa1-b022-49b34d876ced",
   "metadata": {},
   "outputs": [
    {
     "data": {
      "text/plain": [
       "array([[ 0,  1,  2,  3,  4,  5,  6,  7,  8],\n",
       "       [ 9, 10, 11, 12, 13, 14, 15, 16, 17],\n",
       "       [18, 19, 20, 21, 22, 23, 24, 25, 26],\n",
       "       [27, 28, 29, 30, 31, 32, 33, 34, 35],\n",
       "       [36, 37, 38, 39, 40, 41, 42, 43, 44],\n",
       "       [45, 46, 47, 48, 49, 50, 51, 52, 53],\n",
       "       [54, 55, 56, 57, 58, 59, 60, 61, 62],\n",
       "       [63, 64, 65, 66, 67, 68, 69, 70, 71]])"
      ]
     },
     "execution_count": 1,
     "metadata": {},
     "output_type": "execute_result"
    }
   ],
   "source": [
    "import numpy as np\n",
    "np.arange(0,72).reshape(8,9)"
   ]
  },
  {
   "cell_type": "code",
   "execution_count": 2,
   "id": "14405a54-4337-4ea9-9cf3-491b0005acca",
   "metadata": {},
   "outputs": [
    {
     "data": {
      "text/plain": [
       "array([[  0,   1,   2,   3,   4,   5,   6,   7,   8,   9],\n",
       "       [ 10,  11,  12,  13,  14,  15,  16,  17,  18,  19],\n",
       "       [ 20,  21,  22,  23,  24,  25,  26,  27,  28,  29],\n",
       "       [ 30,  31,  32,  33,  34,  35,  36,  37,  38,  39],\n",
       "       [ 40,  41,  42,  43,  44,  45,  46,  47,  48,  49],\n",
       "       [ 50,  51,  52,  53,  54,  55,  56,  57,  58,  59],\n",
       "       [ 60,  61,  62,  63,  64,  65,  66,  67,  68,  69],\n",
       "       [ 70,  71,  72,  73,  74,  75,  76,  77,  78,  79],\n",
       "       [ 80,  81,  82,  83,  84,  85,  86,  87,  88,  89],\n",
       "       [ 90,  91,  92,  93,  94,  95,  96,  97,  98,  99],\n",
       "       [100, 101, 102, 103, 104, 105, 106, 107, 108, 109],\n",
       "       [110, 111, 112, 113, 114, 115, 116, 117, 118, 119]])"
      ]
     },
     "execution_count": 2,
     "metadata": {},
     "output_type": "execute_result"
    }
   ],
   "source": [
    "np.arange(0,120).reshape(12,10)"
   ]
  },
  {
   "cell_type": "code",
   "execution_count": null,
   "id": "3a0e4f10-ab8b-4c99-b630-08e40c89a33b",
   "metadata": {},
   "outputs": [],
   "source": [
    "#linspace() is very similar to arange() function and it display the values in float or can say double"
   ]
  },
  {
   "cell_type": "code",
   "execution_count": 3,
   "id": "11496d42-988d-4882-9123-a9a9da9e5155",
   "metadata": {},
   "outputs": [
    {
     "data": {
      "text/plain": [
       "array([ 0. ,  2.5,  5. ,  7.5, 10. ])"
      ]
     },
     "execution_count": 3,
     "metadata": {},
     "output_type": "execute_result"
    }
   ],
   "source": [
    "np.linspace(0,10,5)"
   ]
  },
  {
   "cell_type": "code",
   "execution_count": 4,
   "id": "ae07f2fb-783d-4bd6-8400-6fcc4724a410",
   "metadata": {},
   "outputs": [
    {
     "data": {
      "text/plain": [
       "array([0.39216691, 0.70836822, 0.58136862])"
      ]
     },
     "execution_count": 4,
     "metadata": {},
     "output_type": "execute_result"
    }
   ],
   "source": [
    "# to generate random number\n",
    "np.random.random(3)"
   ]
  },
  {
   "cell_type": "code",
   "execution_count": 5,
   "id": "3da20c41-aa93-4de3-8340-5454a8c07967",
   "metadata": {},
   "outputs": [
    {
     "data": {
      "text/plain": [
       "array([[0.50199277, 0.64396937, 0.7703415 ],\n",
       "       [0.70075636, 0.09006083, 0.58851881],\n",
       "       [0.6335549 , 0.63902977, 0.51187434]])"
      ]
     },
     "execution_count": 5,
     "metadata": {},
     "output_type": "execute_result"
    }
   ],
   "source": [
    "np.random.random((3,3))"
   ]
  },
  {
   "cell_type": "code",
   "execution_count": 6,
   "id": "2635fb11-0f2f-4840-849f-904f16cd1f20",
   "metadata": {},
   "outputs": [
    {
     "data": {
      "text/plain": [
       "array([0, 1, 2, 3])"
      ]
     },
     "execution_count": 6,
     "metadata": {},
     "output_type": "execute_result"
    }
   ],
   "source": [
    "# Basic arithmatic operation\n",
    "np.arange(4)"
   ]
  },
  {
   "cell_type": "code",
   "execution_count": 7,
   "id": "a5b76ef2-65be-4ba3-b079-46672107ae07",
   "metadata": {},
   "outputs": [
    {
     "name": "stdout",
     "output_type": "stream",
     "text": [
      "[0 1 2 3 4 5]\n"
     ]
    }
   ],
   "source": [
    "import numpy as np\n",
    "f=np.arange(6)\n",
    "print(f)"
   ]
  },
  {
   "cell_type": "code",
   "execution_count": 8,
   "id": "b037cdea-9ddb-4669-b3a9-84ff05483d4e",
   "metadata": {},
   "outputs": [
    {
     "data": {
      "text/plain": [
       "array([4, 5, 6, 7, 8, 9])"
      ]
     },
     "execution_count": 8,
     "metadata": {},
     "output_type": "execute_result"
    }
   ],
   "source": [
    "f+4"
   ]
  },
  {
   "cell_type": "code",
   "execution_count": 9,
   "id": "38f76fa6-0cb0-4de3-b6e1-79110b7e86fe",
   "metadata": {},
   "outputs": [
    {
     "data": {
      "text/plain": [
       "array([10, 11, 12, 13, 14, 15])"
      ]
     },
     "execution_count": 9,
     "metadata": {},
     "output_type": "execute_result"
    }
   ],
   "source": [
    "f+10"
   ]
  },
  {
   "cell_type": "code",
   "execution_count": 10,
   "id": "e2d949cd-23e7-40c1-a1f7-1060127ce17f",
   "metadata": {},
   "outputs": [
    {
     "data": {
      "text/plain": [
       "array([ 0,  5, 10, 15, 20, 25])"
      ]
     },
     "execution_count": 10,
     "metadata": {},
     "output_type": "execute_result"
    }
   ],
   "source": [
    "f*5"
   ]
  },
  {
   "cell_type": "code",
   "execution_count": 13,
   "id": "ac75773d-0195-4bef-9a14-8bab9e285da0",
   "metadata": {},
   "outputs": [
    {
     "name": "stdout",
     "output_type": "stream",
     "text": [
      "[ 6  7  8  9 10 11]\n"
     ]
    }
   ],
   "source": [
    "g=np.arange(6,12)\n",
    "print(g)"
   ]
  },
  {
   "cell_type": "code",
   "execution_count": 14,
   "id": "765d23bd-360a-4ec1-91ae-777e4b9d4e61",
   "metadata": {},
   "outputs": [
    {
     "name": "stdout",
     "output_type": "stream",
     "text": [
      "[ 6  8 10 12 14 16]\n"
     ]
    }
   ],
   "source": [
    "print(f+g)"
   ]
  },
  {
   "cell_type": "code",
   "execution_count": 15,
   "id": "ecfab4e9-9934-4108-92f4-394270ec14fe",
   "metadata": {},
   "outputs": [
    {
     "name": "stdout",
     "output_type": "stream",
     "text": [
      "[ 0  7 16 27 40 55]\n"
     ]
    }
   ],
   "source": [
    "print(f*g)"
   ]
  },
  {
   "cell_type": "code",
   "execution_count": 24,
   "id": "63772ac9-4cc6-4f7e-ab0b-d382c4d83087",
   "metadata": {},
   "outputs": [
    {
     "name": "stdout",
     "output_type": "stream",
     "text": [
      "[[ 0  1  2  3  4]\n",
      " [ 5  6  7  8  9]\n",
      " [10 11 12 13 14]\n",
      " [15 16 17 18 19]\n",
      " [20 21 22 23 24]]\n"
     ]
    }
   ],
   "source": [
    "import numpy as np\n",
    "A=np.arange(0,25).reshape(5,5)\n",
    "print(A)"
   ]
  },
  {
   "cell_type": "code",
   "execution_count": 27,
   "id": "3a68aad1-9c02-442e-a368-28388e7beac3",
   "metadata": {},
   "outputs": [
    {
     "name": "stdout",
     "output_type": "stream",
     "text": [
      "[[ 0  1  2  3  4]\n",
      " [ 5  6  7  8  9]\n",
      " [10 11 12 13 14]\n",
      " [15 16 17 18 19]\n",
      " [20 21 22 23 24]]\n"
     ]
    }
   ],
   "source": [
    "import numpy as np\n",
    "B=np.arange(0,25).reshape(5,5)\n",
    "print(B)"
   ]
  },
  {
   "cell_type": "code",
   "execution_count": 28,
   "id": "f1b2d118-531e-432f-84a5-d7840b737c69",
   "metadata": {},
   "outputs": [
    {
     "name": "stdout",
     "output_type": "stream",
     "text": [
      "[[ 0  2  4  6  8]\n",
      " [10 12 14 16 18]\n",
      " [20 22 24 26 28]\n",
      " [30 32 34 36 38]\n",
      " [40 42 44 46 48]]\n"
     ]
    }
   ],
   "source": [
    "print(A+B)"
   ]
  },
  {
   "cell_type": "code",
   "execution_count": 31,
   "id": "00ee67fb-d4ab-4869-b028-0c882085caaf",
   "metadata": {},
   "outputs": [
    {
     "name": "stdout",
     "output_type": "stream",
     "text": [
      "[[0. 0. 0. 0. 0.]\n",
      " [0. 0. 0. 0. 0.]\n",
      " [0. 0. 0. 0. 0.]\n",
      " [0. 0. 0. 0. 0.]\n",
      " [0. 0. 0. 0. 0.]]\n"
     ]
    }
   ],
   "source": [
    "import numpy as np\n",
    "C=np.zeros((5,5))\n",
    "print(C)"
   ]
  },
  {
   "cell_type": "code",
   "execution_count": 32,
   "id": "a4f58f6e-f77f-4346-9a33-92ff66298105",
   "metadata": {},
   "outputs": [
    {
     "name": "stdout",
     "output_type": "stream",
     "text": [
      "[[ 0.  1.  2.  3.  4.]\n",
      " [ 5.  6.  7.  8.  9.]\n",
      " [10. 11. 12. 13. 14.]\n",
      " [15. 16. 17. 18. 19.]\n",
      " [20. 21. 22. 23. 24.]]\n"
     ]
    }
   ],
   "source": [
    "print(A+C)"
   ]
  },
  {
   "cell_type": "code",
   "execution_count": 33,
   "id": "6b69ea6a-b45c-4fc8-bfd6-8e7c9176386f",
   "metadata": {},
   "outputs": [
    {
     "name": "stdout",
     "output_type": "stream",
     "text": [
      "[[1. 1. 1. 1. 1.]\n",
      " [1. 1. 1. 1. 1.]\n",
      " [1. 1. 1. 1. 1.]\n",
      " [1. 1. 1. 1. 1.]\n",
      " [1. 1. 1. 1. 1.]]\n"
     ]
    }
   ],
   "source": [
    "import numpy as np\n",
    "D=np.ones((5,5))\n",
    "print(D)"
   ]
  },
  {
   "cell_type": "code",
   "execution_count": 34,
   "id": "ab869a0b-f916-4ffc-8ff0-fe03ad69262f",
   "metadata": {},
   "outputs": [
    {
     "name": "stdout",
     "output_type": "stream",
     "text": [
      "[[ 0.  1.  2.  3.  4.]\n",
      " [ 5.  6.  7.  8.  9.]\n",
      " [10. 11. 12. 13. 14.]\n",
      " [15. 16. 17. 18. 19.]\n",
      " [20. 21. 22. 23. 24.]]\n"
     ]
    }
   ],
   "source": [
    "print(A*D)"
   ]
  },
  {
   "cell_type": "code",
   "execution_count": 35,
   "id": "ba424f49-24aa-4492-9038-f1a587baf712",
   "metadata": {},
   "outputs": [
    {
     "data": {
      "text/plain": [
       "array([[ 150,  160,  170,  180,  190],\n",
       "       [ 400,  435,  470,  505,  540],\n",
       "       [ 650,  710,  770,  830,  890],\n",
       "       [ 900,  985, 1070, 1155, 1240],\n",
       "       [1150, 1260, 1370, 1480, 1590]])"
      ]
     },
     "execution_count": 35,
     "metadata": {},
     "output_type": "execute_result"
    }
   ],
   "source": [
    "np.dot(A,B)"
   ]
  },
  {
   "cell_type": "code",
   "execution_count": 36,
   "id": "b3c0de27-c9c4-4f4f-8a00-987644b05160",
   "metadata": {},
   "outputs": [
    {
     "name": "stdout",
     "output_type": "stream",
     "text": [
      "[0 1 2 3 4 5 6 7 8 9]\n"
     ]
    }
   ],
   "source": [
    "# universal function\n",
    "import numpy as np\n",
    "a=np.arange(0,10)\n",
    "print(a)"
   ]
  },
  {
   "cell_type": "code",
   "execution_count": 37,
   "id": "20a80dab-8e57-413f-84ce-54fbff370fdf",
   "metadata": {},
   "outputs": [
    {
     "name": "stdout",
     "output_type": "stream",
     "text": [
      "[ 1  2  3  4  5  6  7  8  9 10]\n"
     ]
    }
   ],
   "source": [
    "a=a+1\n",
    "print(a)"
   ]
  },
  {
   "cell_type": "code",
   "execution_count": 38,
   "id": "82bdafcf-32e9-45e1-98ef-cde0f8ea5558",
   "metadata": {},
   "outputs": [
    {
     "data": {
      "text/plain": [
       "array([1.        , 1.41421356, 1.73205081, 2.        , 2.23606798,\n",
       "       2.44948974, 2.64575131, 2.82842712, 3.        , 3.16227766])"
      ]
     },
     "execution_count": 38,
     "metadata": {},
     "output_type": "execute_result"
    }
   ],
   "source": [
    "np.sqrt(a)"
   ]
  },
  {
   "cell_type": "code",
   "execution_count": 39,
   "id": "0f06f372-ed8f-4fdb-93e2-1d9f73fc7521",
   "metadata": {},
   "outputs": [
    {
     "data": {
      "text/plain": [
       "array([ 0.84147098,  0.90929743,  0.14112001, -0.7568025 , -0.95892427,\n",
       "       -0.2794155 ,  0.6569866 ,  0.98935825,  0.41211849, -0.54402111])"
      ]
     },
     "execution_count": 39,
     "metadata": {},
     "output_type": "execute_result"
    }
   ],
   "source": [
    "np.sin(a)"
   ]
  },
  {
   "cell_type": "code",
   "execution_count": 40,
   "id": "f7e5f887-d884-477f-93ac-53cefc6a944c",
   "metadata": {},
   "outputs": [
    {
     "data": {
      "text/plain": [
       "array([0.        , 0.69314718, 1.09861229, 1.38629436, 1.60943791,\n",
       "       1.79175947, 1.94591015, 2.07944154, 2.19722458, 2.30258509])"
      ]
     },
     "execution_count": 40,
     "metadata": {},
     "output_type": "execute_result"
    }
   ],
   "source": [
    "np.log(a)"
   ]
  },
  {
   "cell_type": "code",
   "execution_count": 41,
   "id": "0e99657d-53bb-4d7c-bccd-c6a1e1c3e6bd",
   "metadata": {},
   "outputs": [
    {
     "data": {
      "text/plain": [
       "55"
      ]
     },
     "execution_count": 41,
     "metadata": {},
     "output_type": "execute_result"
    }
   ],
   "source": [
    "# aggregate \n",
    "a.sum()"
   ]
  },
  {
   "cell_type": "code",
   "execution_count": 42,
   "id": "5021e391-b0a9-47ae-9fb5-55545b8b0fec",
   "metadata": {},
   "outputs": [
    {
     "data": {
      "text/plain": [
       "1"
      ]
     },
     "execution_count": 42,
     "metadata": {},
     "output_type": "execute_result"
    }
   ],
   "source": [
    "a.min()"
   ]
  },
  {
   "cell_type": "code",
   "execution_count": 43,
   "id": "ada2bece-2eb2-4b42-a191-9cfe4c575930",
   "metadata": {},
   "outputs": [
    {
     "data": {
      "text/plain": [
       "10"
      ]
     },
     "execution_count": 43,
     "metadata": {},
     "output_type": "execute_result"
    }
   ],
   "source": [
    "a.max()"
   ]
  },
  {
   "cell_type": "code",
   "execution_count": 44,
   "id": "453044cb-71b8-486e-8a74-8689b9dc2881",
   "metadata": {},
   "outputs": [
    {
     "data": {
      "text/plain": [
       "5.5"
      ]
     },
     "execution_count": 44,
     "metadata": {},
     "output_type": "execute_result"
    }
   ],
   "source": [
    "a.mean()"
   ]
  },
  {
   "cell_type": "code",
   "execution_count": 45,
   "id": "7dfdaeaf-7baa-4f98-93df-0208edb0fe7e",
   "metadata": {},
   "outputs": [
    {
     "data": {
      "text/plain": [
       "2.8722813232690143"
      ]
     },
     "execution_count": 45,
     "metadata": {},
     "output_type": "execute_result"
    }
   ],
   "source": [
    "a.std()"
   ]
  },
  {
   "cell_type": "code",
   "execution_count": 52,
   "id": "102886ef-5650-400d-846e-76297a944878",
   "metadata": {},
   "outputs": [
    {
     "name": "stdout",
     "output_type": "stream",
     "text": [
      "[10 11 12 13 14 15]\n"
     ]
    }
   ],
   "source": [
    "#indexing\n",
    "import numpy as np\n",
    "b=np.arange(10,16)\n",
    "print(b)"
   ]
  },
  {
   "cell_type": "code",
   "execution_count": 53,
   "id": "4b247525-a293-4c68-ac7c-fe237d1c2057",
   "metadata": {},
   "outputs": [
    {
     "data": {
      "text/plain": [
       "15"
      ]
     },
     "execution_count": 53,
     "metadata": {},
     "output_type": "execute_result"
    }
   ],
   "source": [
    "b[5]"
   ]
  },
  {
   "cell_type": "code",
   "execution_count": 54,
   "id": "c0748b3a-97f3-41fe-ae70-d5689672feb5",
   "metadata": {},
   "outputs": [
    {
     "name": "stdout",
     "output_type": "stream",
     "text": [
      "[11 12 14]\n"
     ]
    }
   ],
   "source": [
    "print(b[[1,2,4]])"
   ]
  },
  {
   "cell_type": "code",
   "execution_count": 62,
   "id": "523ada3a-fa05-4141-8214-53ee03866210",
   "metadata": {},
   "outputs": [
    {
     "name": "stdout",
     "output_type": "stream",
     "text": [
      "[[ 0  1  2  3  4  5]\n",
      " [ 6  7  8  9 10 11]\n",
      " [12 13 14 15 16 17]\n",
      " [18 19 20 21 22 23]\n",
      " [24 25 26 27 28 29]\n",
      " [30 31 32 33 34 35]]\n"
     ]
    }
   ],
   "source": [
    "# indexing on two dimensions array\n",
    "import numpy as np\n",
    "c=np.arange(0,36).reshape(6,6)\n",
    "print(c)"
   ]
  },
  {
   "cell_type": "code",
   "execution_count": 65,
   "id": "939cb007-f65a-4f6d-96ff-90444e1ac3e4",
   "metadata": {},
   "outputs": [
    {
     "data": {
      "text/plain": [
       "8"
      ]
     },
     "execution_count": 65,
     "metadata": {},
     "output_type": "execute_result"
    }
   ],
   "source": [
    "c[1,2]"
   ]
  },
  {
   "cell_type": "code",
   "execution_count": 66,
   "id": "59a3527b-0f06-4c03-9cd4-499b44c45b60",
   "metadata": {},
   "outputs": [
    {
     "data": {
      "text/plain": [
       "35"
      ]
     },
     "execution_count": 66,
     "metadata": {},
     "output_type": "execute_result"
    }
   ],
   "source": [
    "c[5,5]"
   ]
  },
  {
   "cell_type": "code",
   "execution_count": 67,
   "id": "fd0cb63d-c5ba-4153-af6d-54474997ae43",
   "metadata": {},
   "outputs": [
    {
     "name": "stdout",
     "output_type": "stream",
     "text": [
      "[ 1  2  3  4  5  6  7  8  9 10]\n"
     ]
    }
   ],
   "source": [
    "print(a)"
   ]
  },
  {
   "cell_type": "code",
   "execution_count": 69,
   "id": "dc3b0c20-05e4-4762-92cc-3d77c0648b18",
   "metadata": {},
   "outputs": [
    {
     "name": "stdout",
     "output_type": "stream",
     "text": [
      "[ 2  3  4  5  6  7  8  9 10]\n"
     ]
    }
   ],
   "source": [
    "print(a[1:10])"
   ]
  },
  {
   "cell_type": "code",
   "execution_count": 70,
   "id": "ee31e046-6a46-45c1-8a58-b759e5a7526c",
   "metadata": {},
   "outputs": [
    {
     "name": "stdout",
     "output_type": "stream",
     "text": [
      "[ 4  5  6  7  8  9 10]\n"
     ]
    }
   ],
   "source": [
    "print(a[3:10])"
   ]
  },
  {
   "cell_type": "code",
   "execution_count": 71,
   "id": "64e81daf-9da2-49ce-9dca-deac5434b665",
   "metadata": {},
   "outputs": [
    {
     "name": "stdout",
     "output_type": "stream",
     "text": [
      "[2]\n"
     ]
    }
   ],
   "source": [
    "print(a[1:3:10])"
   ]
  },
  {
   "cell_type": "code",
   "execution_count": 72,
   "id": "26946e63-3eb2-42da-a604-b97dda75705d",
   "metadata": {},
   "outputs": [
    {
     "name": "stdout",
     "output_type": "stream",
     "text": [
      "[1 3 5 7 9]\n"
     ]
    }
   ],
   "source": [
    "print(a[::2])"
   ]
  },
  {
   "cell_type": "code",
   "execution_count": 73,
   "id": "02568707-e1cd-49e9-a32f-9069ee112252",
   "metadata": {},
   "outputs": [
    {
     "name": "stdout",
     "output_type": "stream",
     "text": [
      "[ 1  4  7 10]\n"
     ]
    }
   ],
   "source": [
    "print(a[::3])"
   ]
  },
  {
   "cell_type": "code",
   "execution_count": 74,
   "id": "a649c752-d5b3-4347-98b0-b1bd3c1b3219",
   "metadata": {},
   "outputs": [
    {
     "name": "stdout",
     "output_type": "stream",
     "text": [
      "[ 1  2  3  4  5  6  7  8  9 10]\n"
     ]
    }
   ],
   "source": [
    "print(a[::1])"
   ]
  },
  {
   "cell_type": "code",
   "execution_count": 75,
   "id": "bf0bf719-0094-4bfe-a16b-fcc85bccaa0b",
   "metadata": {},
   "outputs": [
    {
     "name": "stdout",
     "output_type": "stream",
     "text": [
      "[ 2  3  4  5  6  7  8  9 10]\n"
     ]
    }
   ],
   "source": [
    "print(a[1::])"
   ]
  },
  {
   "cell_type": "code",
   "execution_count": 76,
   "id": "d0f6fa9a-ab11-4599-9e35-81fc8e6c59dc",
   "metadata": {},
   "outputs": [
    {
     "name": "stdout",
     "output_type": "stream",
     "text": [
      "[ 3  4  5  6  7  8  9 10]\n"
     ]
    }
   ],
   "source": [
    "print(a[2::])"
   ]
  },
  {
   "cell_type": "code",
   "execution_count": 77,
   "id": "9007e6e3-07e2-49b5-956e-ad85453e2301",
   "metadata": {},
   "outputs": [
    {
     "name": "stdout",
     "output_type": "stream",
     "text": [
      "[2]\n"
     ]
    }
   ],
   "source": [
    "print(a[1:2:])"
   ]
  },
  {
   "cell_type": "code",
   "execution_count": 78,
   "id": "ce5d06df-0971-48a6-9616-6bb7a8920070",
   "metadata": {},
   "outputs": [
    {
     "name": "stdout",
     "output_type": "stream",
     "text": [
      "[2]\n"
     ]
    }
   ],
   "source": [
    "print(a[1:2:10])"
   ]
  },
  {
   "cell_type": "code",
   "execution_count": 79,
   "id": "3ce8122d-e01e-40d0-91d5-84acafa682f4",
   "metadata": {},
   "outputs": [
    {
     "name": "stdout",
     "output_type": "stream",
     "text": [
      "[ 2  4  6  8 10]\n"
     ]
    }
   ],
   "source": [
    "print(a[1:10:2])"
   ]
  },
  {
   "cell_type": "code",
   "execution_count": 81,
   "id": "fd70f388-4e51-4c8c-8b7c-d0a52afd2c9d",
   "metadata": {},
   "outputs": [
    {
     "name": "stdout",
     "output_type": "stream",
     "text": [
      "[[10 11 12]\n",
      " [13 14 15]\n",
      " [16 17 18]]\n"
     ]
    }
   ],
   "source": [
    "import numpy as np\n",
    "g=np.arange(10,19).reshape(3,3)\n",
    "print(g)"
   ]
  },
  {
   "cell_type": "code",
   "execution_count": 82,
   "id": "1de79b58-ff48-436a-aaa1-cf423ae0cb85",
   "metadata": {},
   "outputs": [
    {
     "name": "stdout",
     "output_type": "stream",
     "text": [
      "[10 11 12]\n"
     ]
    }
   ],
   "source": [
    "# to extract rows\n",
    "print(g[0,:])"
   ]
  },
  {
   "cell_type": "code",
   "execution_count": 84,
   "id": "348e6605-1d53-4c62-b9e6-46664bfd4636",
   "metadata": {},
   "outputs": [
    {
     "name": "stdout",
     "output_type": "stream",
     "text": [
      "[13 14 15]\n"
     ]
    }
   ],
   "source": [
    "print(g[1,:])"
   ]
  },
  {
   "cell_type": "code",
   "execution_count": 85,
   "id": "fa8da00d-528a-4650-bab6-a94f75565265",
   "metadata": {},
   "outputs": [
    {
     "name": "stdout",
     "output_type": "stream",
     "text": [
      "[16 17 18]\n"
     ]
    }
   ],
   "source": [
    "print(g[2,:])"
   ]
  },
  {
   "cell_type": "code",
   "execution_count": 86,
   "id": "1c8bbbc6-de10-4616-8847-e9695e8d0b87",
   "metadata": {},
   "outputs": [
    {
     "name": "stdout",
     "output_type": "stream",
     "text": [
      "[10 13 16]\n"
     ]
    }
   ],
   "source": [
    "# to extract columns\n",
    "print(g[:,0])"
   ]
  },
  {
   "cell_type": "code",
   "execution_count": 4,
   "id": "06d92348-8c42-4b3f-bf97-c1493edecfd8",
   "metadata": {},
   "outputs": [],
   "source": [
    "import numpy as np\n",
    "h=np.arange(0,12).reshape(4,3)"
   ]
  },
  {
   "cell_type": "code",
   "execution_count": 5,
   "id": "a8989ec5-ed19-4aa5-b7f9-4512f89b659d",
   "metadata": {},
   "outputs": [
    {
     "name": "stdout",
     "output_type": "stream",
     "text": [
      "[[ 0  1  2]\n",
      " [ 3  4  5]\n",
      " [ 6  7  8]\n",
      " [ 9 10 11]]\n"
     ]
    }
   ],
   "source": [
    "print(h)"
   ]
  },
  {
   "cell_type": "code",
   "execution_count": 6,
   "id": "0e8e6be1-fbe8-4eca-91ee-25fd5ee10296",
   "metadata": {},
   "outputs": [
    {
     "name": "stdout",
     "output_type": "stream",
     "text": [
      "[[ 0  1  2]\n",
      " [ 3  4  5]\n",
      " [ 6  7  8]\n",
      " [ 9 10 11]]\n",
      "[[ 0  1  2]\n",
      " [ 3  4  5]\n",
      " [ 6  7  8]\n",
      " [ 9 10 11]]\n",
      "[[ 0  1  2]\n",
      " [ 3  4  5]\n",
      " [ 6  7  8]\n",
      " [ 9 10 11]]\n",
      "[[ 0  1  2]\n",
      " [ 3  4  5]\n",
      " [ 6  7  8]\n",
      " [ 9 10 11]]\n"
     ]
    }
   ],
   "source": [
    "for i in h:\n",
    "    print(h)"
   ]
  },
  {
   "cell_type": "code",
   "execution_count": 7,
   "id": "41b98140-e62a-4613-bf95-d7941c3f5fbf",
   "metadata": {},
   "outputs": [
    {
     "name": "stdout",
     "output_type": "stream",
     "text": [
      "[0 1 2]\n",
      "[3 4 5]\n",
      "[6 7 8]\n",
      "[ 9 10 11]\n"
     ]
    }
   ],
   "source": [
    "for row in h:\n",
    "    print(row)"
   ]
  },
  {
   "cell_type": "code",
   "execution_count": 8,
   "id": "55dad1a4-ff42-4180-b4eb-395c2c0e1137",
   "metadata": {},
   "outputs": [
    {
     "name": "stdout",
     "output_type": "stream",
     "text": [
      "[0 1 2]\n",
      "[3 4 5]\n",
      "[6 7 8]\n",
      "[ 9 10 11]\n"
     ]
    }
   ],
   "source": [
    "for column in h:\n",
    "    print(column)"
   ]
  },
  {
   "cell_type": "code",
   "execution_count": 9,
   "id": "06db3508-8337-4697-a9db-dc1349b7e1b0",
   "metadata": {},
   "outputs": [
    {
     "name": "stdout",
     "output_type": "stream",
     "text": [
      "0\n",
      "1\n",
      "2\n",
      "3\n",
      "4\n",
      "5\n",
      "6\n",
      "7\n",
      "8\n",
      "9\n",
      "10\n",
      "11\n"
     ]
    }
   ],
   "source": [
    "for item in h.flat:\n",
    "    print(item)"
   ]
  },
  {
   "cell_type": "code",
   "execution_count": 10,
   "id": "6e18b781-16e8-48b6-abc2-e37d1d20d4e0",
   "metadata": {},
   "outputs": [
    {
     "data": {
      "text/plain": [
       "array([4.5, 5.5, 6.5])"
      ]
     },
     "execution_count": 10,
     "metadata": {},
     "output_type": "execute_result"
    }
   ],
   "source": [
    "np.apply_along_axis(np.mean,axis=0,arr=h)"
   ]
  },
  {
   "cell_type": "code",
   "execution_count": 11,
   "id": "3a2e835e-5dfc-4956-a895-4565cbb7fe24",
   "metadata": {},
   "outputs": [
    {
     "data": {
      "text/plain": [
       "array([ 1.,  4.,  7., 10.])"
      ]
     },
     "execution_count": 11,
     "metadata": {},
     "output_type": "execute_result"
    }
   ],
   "source": [
    "np.apply_along_axis(np.mean,axis=1,arr=h)"
   ]
  },
  {
   "cell_type": "code",
   "execution_count": 16,
   "id": "f52cf0d3-4762-476a-a068-8c083d80865f",
   "metadata": {},
   "outputs": [
    {
     "data": {
      "text/plain": [
       "array([4.5, 5.5, 6.5])"
      ]
     },
     "execution_count": 16,
     "metadata": {},
     "output_type": "execute_result"
    }
   ],
   "source": [
    "np.apply_along_axis(np.mean,axis=0,arr=h)"
   ]
  },
  {
   "cell_type": "code",
   "execution_count": 21,
   "id": "fc62e2c5-a972-43f6-a4a0-63b0d3953913",
   "metadata": {
    "tags": []
   },
   "outputs": [
    {
     "data": {
      "text/plain": [
       "array([ 1.,  4.,  7., 10.])"
      ]
     },
     "execution_count": 21,
     "metadata": {},
     "output_type": "execute_result"
    }
   ],
   "source": [
    "np.apply_along_axis(np.mean,axis=1,arr=h)"
   ]
  },
  {
   "cell_type": "code",
   "execution_count": 22,
   "id": "353501a1-5322-4e9a-886e-eabfb7e352ed",
   "metadata": {},
   "outputs": [
    {
     "name": "stdout",
     "output_type": "stream",
     "text": [
      "[[0.86224883 0.37967261 0.44007805 0.60846736]\n",
      " [0.3159967  0.04816498 0.05406551 0.07274955]\n",
      " [0.39890356 0.82477331 0.64949655 0.04275176]\n",
      " [0.1146584  0.02268321 0.85969206 0.07255891]]\n"
     ]
    }
   ],
   "source": [
    "#Condition and Boolean Arrays\n",
    "# to create 4X4 Matrix containing random numbers between 0 and 1\n",
    "import numpy as np\n",
    "V=np.random.random((4,4))\n",
    "print(V)"
   ]
  },
  {
   "cell_type": "code",
   "execution_count": 23,
   "id": "7409a8e4-1a02-4935-a02e-8acac4774805",
   "metadata": {},
   "outputs": [
    {
     "data": {
      "text/plain": [
       "array([[False,  True,  True, False],\n",
       "       [ True,  True,  True,  True],\n",
       "       [ True, False, False,  True],\n",
       "       [ True,  True, False,  True]])"
      ]
     },
     "execution_count": 23,
     "metadata": {},
     "output_type": "execute_result"
    }
   ],
   "source": [
    "# To apply an operator condition \n",
    "# and that will return value a Boolean Array containing true value in the positions in which the condition is satified\n",
    "V<0.5"
   ]
  },
  {
   "cell_type": "code",
   "execution_count": 24,
   "id": "29058420-9b1d-4d64-94a5-df114d0d08ec",
   "metadata": {},
   "outputs": [
    {
     "data": {
      "text/plain": [
       "array([0.37967261, 0.44007805, 0.3159967 , 0.04816498, 0.05406551,\n",
       "       0.07274955, 0.39890356, 0.04275176, 0.1146584 , 0.02268321,\n",
       "       0.07255891])"
      ]
     },
     "execution_count": 24,
     "metadata": {},
     "output_type": "execute_result"
    }
   ],
   "source": [
    "# To extract all elements smaller than 0.5, so obtain a new array\n",
    "V[V<0.5]"
   ]
  },
  {
   "cell_type": "code",
   "execution_count": 26,
   "id": "8ac79571-a22f-4b75-b62e-873ae3def679",
   "metadata": {},
   "outputs": [
    {
     "name": "stdout",
     "output_type": "stream",
     "text": [
      "[[0.15028923 0.10849382 0.8654888  0.87408422 0.52077915]\n",
      " [0.28563066 0.76006997 0.44704814 0.9711565  0.92177253]\n",
      " [0.35679232 0.51716637 0.97676998 0.76736398 0.60017435]\n",
      " [0.45545747 0.53321184 0.4477195  0.7646558  0.38763855]\n",
      " [0.02861798 0.4955273  0.20126039 0.51730219 0.39535451]]\n"
     ]
    }
   ],
   "source": [
    "# To create a matrix 5x5 that will contain a boolean arrays\n",
    "import numpy as np\n",
    "Z=np.random.random((5,5))\n",
    "print(Z)"
   ]
  },
  {
   "cell_type": "code",
   "execution_count": 27,
   "id": "fd619ecd-6465-4ebf-a674-24ecb353cdf6",
   "metadata": {},
   "outputs": [
    {
     "name": "stdout",
     "output_type": "stream",
     "text": [
      "[[0.02583254 0.21322461 0.94093265 0.94888479 0.29617615 0.29293977\n",
      "  0.32012238]\n",
      " [0.36705873 0.87372817 0.37736892 0.2942622  0.18729995 0.61250269\n",
      "  0.54605265]\n",
      " [0.41270229 0.47253475 0.85096157 0.3153031  0.4435217  0.46750818\n",
      "  0.83435357]\n",
      " [0.61586576 0.4868566  0.698486   0.72679074 0.59790595 0.08350983\n",
      "  0.97724198]\n",
      " [0.42811824 0.75070913 0.23743527 0.43882555 0.03966791 0.30511251\n",
      "  0.86185098]\n",
      " [0.10027638 0.49945819 0.11201136 0.77518521 0.16928813 0.26333011\n",
      "  0.13348796]\n",
      " [0.55933087 0.62963317 0.32848533 0.15898177 0.56859268 0.74794436\n",
      "  0.00923617]]\n"
     ]
    }
   ],
   "source": [
    "# To create a matrix 6x6 that will contain a boolean array\n",
    "import numpy as np\n",
    "A=np.random.random((7,7))\n",
    "print(A)"
   ]
  },
  {
   "cell_type": "code",
   "execution_count": 29,
   "id": "0ff75403-c6f6-4a07-945d-f9cce966d1de",
   "metadata": {},
   "outputs": [
    {
     "data": {
      "text/plain": [
       "array([[ True,  True, False, False,  True,  True,  True],\n",
       "       [ True, False,  True,  True,  True,  True,  True],\n",
       "       [ True,  True, False,  True,  True,  True, False],\n",
       "       [ True,  True,  True, False,  True,  True, False],\n",
       "       [ True, False,  True,  True,  True,  True, False],\n",
       "       [ True,  True,  True, False,  True,  True,  True],\n",
       "       [ True,  True,  True,  True,  True, False,  True]])"
      ]
     },
     "execution_count": 29,
     "metadata": {},
     "output_type": "execute_result"
    }
   ],
   "source": [
    "# To print boolean value\n",
    "A<0.7"
   ]
  },
  {
   "cell_type": "code",
   "execution_count": 30,
   "id": "31029da1-7d5a-418a-81c2-02e2cc6ad6ef",
   "metadata": {},
   "outputs": [
    {
     "data": {
      "text/plain": [
       "array([0.02583254, 0.21322461, 0.29617615, 0.29293977, 0.32012238,\n",
       "       0.36705873, 0.37736892, 0.2942622 , 0.18729995, 0.61250269,\n",
       "       0.54605265, 0.41270229, 0.47253475, 0.3153031 , 0.4435217 ,\n",
       "       0.46750818, 0.61586576, 0.4868566 , 0.698486  , 0.59790595,\n",
       "       0.08350983, 0.42811824, 0.23743527, 0.43882555, 0.03966791,\n",
       "       0.30511251, 0.10027638, 0.49945819, 0.11201136, 0.16928813,\n",
       "       0.26333011, 0.13348796, 0.55933087, 0.62963317, 0.32848533,\n",
       "       0.15898177, 0.56859268, 0.00923617])"
      ]
     },
     "execution_count": 30,
     "metadata": {},
     "output_type": "execute_result"
    }
   ],
   "source": [
    "# To print value which is 0.7\n",
    "A[A<0.7]"
   ]
  },
  {
   "cell_type": "code",
   "execution_count": 31,
   "id": "c8249e26-5298-485e-b1f7-8f13c9d53c74",
   "metadata": {},
   "outputs": [
    {
     "name": "stdout",
     "output_type": "stream",
     "text": [
      "[0.27402942 0.66078788 0.34532455 0.571043   0.39601638 0.27276959\n",
      " 0.53194231 0.6940196  0.14721234 0.43001565]\n"
     ]
    }
   ],
   "source": [
    "# Shape Manipulation\n",
    "# How to convert one-dimensional array into two-dimensional array\n",
    "import numpy as np\n",
    "B=np.random.random((10))\n",
    "print(B)"
   ]
  },
  {
   "cell_type": "code",
   "execution_count": 33,
   "id": "a7f48ad7-2322-4c46-82ee-d197f69004e0",
   "metadata": {},
   "outputs": [
    {
     "name": "stdout",
     "output_type": "stream",
     "text": [
      "[[0.27402942 0.66078788 0.34532455 0.571043   0.39601638]\n",
      " [0.27276959 0.53194231 0.6940196  0.14721234 0.43001565]]\n"
     ]
    }
   ],
   "source": [
    "# to use reshape() function to convert oned d-array into two d-array\n",
    "C=B.reshape(2,5)\n",
    "print(C)"
   ]
  },
  {
   "cell_type": "code",
   "execution_count": 35,
   "id": "ecf464da-7a94-4941-930c-292ef7e132f1",
   "metadata": {},
   "outputs": [
    {
     "name": "stdout",
     "output_type": "stream",
     "text": [
      "[0.14848473 0.97824624 0.26593814 0.84206382 0.04942251 0.39308293\n",
      " 0.92127919 0.71132845 0.39674256 0.32219388 0.01752252 0.80808931\n",
      " 0.10068127 0.60769087 0.13527961 0.54884987]\n"
     ]
    }
   ],
   "source": [
    "import numpy as np\n",
    "C=np.random.random((16))\n",
    "print(C)"
   ]
  },
  {
   "cell_type": "code",
   "execution_count": 36,
   "id": "9e58a7bb-02fb-4bcc-a1a9-57f0414bd44e",
   "metadata": {},
   "outputs": [
    {
     "name": "stdout",
     "output_type": "stream",
     "text": [
      "[[0.14848473 0.97824624 0.26593814 0.84206382]\n",
      " [0.04942251 0.39308293 0.92127919 0.71132845]\n",
      " [0.39674256 0.32219388 0.01752252 0.80808931]\n",
      " [0.10068127 0.60769087 0.13527961 0.54884987]]\n"
     ]
    }
   ],
   "source": [
    "# reshape() function returns a new arrays and a new objects and also convert one d-array into two d-array\n",
    "D=C.reshape((4,4))\n",
    "print((D))"
   ]
  },
  {
   "cell_type": "code",
   "execution_count": 40,
   "id": "09c10ec6-b71d-465f-b5a1-12b3a4d2f136",
   "metadata": {},
   "outputs": [
    {
     "name": "stdout",
     "output_type": "stream",
     "text": [
      "[[0.14848473 0.97824624 0.26593814 0.84206382]\n",
      " [0.04942251 0.39308293 0.92127919 0.71132845]\n",
      " [0.39674256 0.32219388 0.01752252 0.80808931]\n",
      " [0.10068127 0.60769087 0.13527961 0.54884987]]\n"
     ]
    }
   ],
   "source": [
    "# to use shape attribute and it is also use to convert one d-array into two d-array\n",
    "D.shape=(4,4)\n",
    "print(D)"
   ]
  },
  {
   "cell_type": "code",
   "execution_count": 42,
   "id": "e4353209-bc6d-4363-95f3-4a19918e4892",
   "metadata": {},
   "outputs": [
    {
     "name": "stdout",
     "output_type": "stream",
     "text": [
      "[0.14848473 0.97824624 0.26593814 0.84206382 0.04942251 0.39308293\n",
      " 0.92127919 0.71132845 0.39674256 0.32219388 0.01752252 0.80808931\n",
      " 0.10068127 0.60769087 0.13527961 0.54884987]\n"
     ]
    }
   ],
   "source": [
    "# to use ravel() function to convert two d-array into one d-array\n",
    "D=D.ravel()\n",
    "print(D)"
   ]
  },
  {
   "cell_type": "code",
   "execution_count": 45,
   "id": "e5a9277b-0df8-40ee-acf5-cda12d766fee",
   "metadata": {},
   "outputs": [
    {
     "name": "stdout",
     "output_type": "stream",
     "text": [
      "[0.14848473 0.97824624 0.26593814 0.84206382 0.04942251 0.39308293\n",
      " 0.92127919 0.71132845 0.39674256 0.32219388 0.01752252 0.80808931\n",
      " 0.10068127 0.60769087 0.13527961 0.54884987]\n"
     ]
    }
   ],
   "source": [
    "# use shape attribute directly on the array\n",
    "D.shape=(16)\n",
    "print(D)"
   ]
  },
  {
   "cell_type": "code",
   "execution_count": 55,
   "id": "14d992ed-acbc-4b9e-b58e-96bdc0d5bdfe",
   "metadata": {},
   "outputs": [
    {
     "data": {
      "text/plain": [
       "array([0.14848473, 0.97824624, 0.26593814, 0.84206382, 0.04942251,\n",
       "       0.39308293, 0.92127919, 0.71132845, 0.39674256, 0.32219388,\n",
       "       0.01752252, 0.80808931, 0.10068127, 0.60769087, 0.13527961,\n",
       "       0.54884987])"
      ]
     },
     "execution_count": 55,
     "metadata": {},
     "output_type": "execute_result"
    }
   ],
   "source": [
    "# Transpose() function is use to convert rows into columns and columns into rows\n",
    "C.transpose()\n"
   ]
  },
  {
   "cell_type": "code",
   "execution_count": 54,
   "id": "38787500-7398-49af-905e-5dce573113f8",
   "metadata": {},
   "outputs": [
    {
     "data": {
      "text/plain": [
       "array([0.27402942, 0.66078788, 0.34532455, 0.571043  , 0.39601638,\n",
       "       0.27276959, 0.53194231, 0.6940196 , 0.14721234, 0.43001565])"
      ]
     },
     "execution_count": 54,
     "metadata": {},
     "output_type": "execute_result"
    }
   ],
   "source": [
    "B.transpose()\n"
   ]
  },
  {
   "cell_type": "code",
   "execution_count": 50,
   "id": "613900ed-ea5b-48ae-abe8-e0d5c2e96c27",
   "metadata": {},
   "outputs": [
    {
     "name": "stdout",
     "output_type": "stream",
     "text": [
      "[2.78998986e-01 7.21510166e-01 4.32738946e-01 1.72571130e-02\n",
      " 8.88500173e-01 1.08677982e-01 4.31543037e-01 7.41740882e-01\n",
      " 9.51016376e-01 2.33589733e-01 9.39651658e-01 6.92225919e-01\n",
      " 2.46584417e-02 9.95978435e-01 3.58862563e-01 9.64238260e-01\n",
      " 2.04689952e-01 3.89762097e-01 3.14069388e-01 5.12289633e-04\n",
      " 1.88847245e-01 6.91450286e-01 5.53926023e-01 2.09280317e-01\n",
      " 4.04922270e-01]\n"
     ]
    }
   ],
   "source": [
    "import numpy as np\n",
    "E=np.random.random((25))\n",
    "print(E)"
   ]
  },
  {
   "cell_type": "code",
   "execution_count": 51,
   "id": "2cd6150d-c879-454e-9db7-338055f7a91f",
   "metadata": {},
   "outputs": [],
   "source": [
    "E.shape=(5,5)"
   ]
  },
  {
   "cell_type": "code",
   "execution_count": 52,
   "id": "503969bd-8956-4a7a-94e4-c50e5a978b78",
   "metadata": {},
   "outputs": [
    {
     "name": "stdout",
     "output_type": "stream",
     "text": [
      "[[2.78998986e-01 7.21510166e-01 4.32738946e-01 1.72571130e-02\n",
      "  8.88500173e-01]\n",
      " [1.08677982e-01 4.31543037e-01 7.41740882e-01 9.51016376e-01\n",
      "  2.33589733e-01]\n",
      " [9.39651658e-01 6.92225919e-01 2.46584417e-02 9.95978435e-01\n",
      "  3.58862563e-01]\n",
      " [9.64238260e-01 2.04689952e-01 3.89762097e-01 3.14069388e-01\n",
      "  5.12289633e-04]\n",
      " [1.88847245e-01 6.91450286e-01 5.53926023e-01 2.09280317e-01\n",
      "  4.04922270e-01]]\n"
     ]
    }
   ],
   "source": [
    "print(E)"
   ]
  },
  {
   "cell_type": "code",
   "execution_count": 53,
   "id": "78045c44-e88e-4d86-82eb-ff1cd68f23bb",
   "metadata": {},
   "outputs": [
    {
     "data": {
      "text/plain": [
       "array([[2.78998986e-01, 1.08677982e-01, 9.39651658e-01, 9.64238260e-01,\n",
       "        1.88847245e-01],\n",
       "       [7.21510166e-01, 4.31543037e-01, 6.92225919e-01, 2.04689952e-01,\n",
       "        6.91450286e-01],\n",
       "       [4.32738946e-01, 7.41740882e-01, 2.46584417e-02, 3.89762097e-01,\n",
       "        5.53926023e-01],\n",
       "       [1.72571130e-02, 9.51016376e-01, 9.95978435e-01, 3.14069388e-01,\n",
       "        2.09280317e-01],\n",
       "       [8.88500173e-01, 2.33589733e-01, 3.58862563e-01, 5.12289633e-04,\n",
       "        4.04922270e-01]])"
      ]
     },
     "execution_count": 53,
     "metadata": {},
     "output_type": "execute_result"
    }
   ],
   "source": [
    "E.transpose()\n"
   ]
  },
  {
   "cell_type": "code",
   "execution_count": 56,
   "id": "3bb882b6-74dc-40d5-8277-4369b7584033",
   "metadata": {},
   "outputs": [
    {
     "data": {
      "text/plain": [
       "array([[1., 1., 1.],\n",
       "       [1., 1., 1.],\n",
       "       [1., 1., 1.],\n",
       "       [0., 0., 0.],\n",
       "       [0., 0., 0.],\n",
       "       [0., 0., 0.]])"
      ]
     },
     "execution_count": 56,
     "metadata": {},
     "output_type": "execute_result"
    }
   ],
   "source": [
    "# Array manipulation\n",
    "# joining two arrays\n",
    "# merging two arrays\n",
    "import numpy as np\n",
    "a=np.ones((3,3))\n",
    "b=np.zeros((3,3))\n",
    "np.vstack((a,b))\n",
    "# vstack() function is use to perform vertical stacking"
   ]
  },
  {
   "cell_type": "code",
   "execution_count": 57,
   "id": "857a659a-7442-4e4b-84d8-4568c9b5f3a2",
   "metadata": {},
   "outputs": [
    {
     "data": {
      "text/plain": [
       "array([[1., 1., 1., 0., 0., 0.],\n",
       "       [1., 1., 1., 0., 0., 0.],\n",
       "       [1., 1., 1., 0., 0., 0.]])"
      ]
     },
     "execution_count": 57,
     "metadata": {},
     "output_type": "execute_result"
    }
   ],
   "source": [
    "# hstack() function is use to perform horizontal stacking\n",
    "np.hstack((a,b))"
   ]
  },
  {
   "cell_type": "code",
   "execution_count": 58,
   "id": "a3757b33-9726-4faa-b42d-d341121abd24",
   "metadata": {},
   "outputs": [
    {
     "data": {
      "text/plain": [
       "array([[0, 3, 6],\n",
       "       [1, 4, 7],\n",
       "       [2, 5, 8]])"
      ]
     },
     "execution_count": 58,
     "metadata": {},
     "output_type": "execute_result"
    }
   ],
   "source": [
    "# Another function column_stack() and row_stack() and it's functionality\n",
    "import numpy as np\n",
    "c=np.array([0,1,2])\n",
    "d=np.array([3,4,5])\n",
    "e=np.array([6,7,8])\n",
    "np.column_stack((c,d,e))"
   ]
  },
  {
   "cell_type": "code",
   "execution_count": 59,
   "id": "8d5f4180-ec54-4e81-9d9f-372012bcb909",
   "metadata": {},
   "outputs": [
    {
     "data": {
      "text/plain": [
       "array([[0, 1, 2],\n",
       "       [3, 4, 5],\n",
       "       [6, 7, 8]])"
      ]
     },
     "execution_count": 59,
     "metadata": {},
     "output_type": "execute_result"
    }
   ],
   "source": [
    "np.row_stack((c,d,e))"
   ]
  },
  {
   "cell_type": "code",
   "execution_count": 60,
   "id": "91c06ba5-ead2-4903-a1d6-79a642839586",
   "metadata": {},
   "outputs": [
    {
     "data": {
      "text/plain": [
       "array([[ 0,  1,  2,  3],\n",
       "       [ 4,  5,  6,  7],\n",
       "       [ 8,  9, 10, 11],\n",
       "       [12, 13, 14, 15]])"
      ]
     },
     "execution_count": 60,
     "metadata": {},
     "output_type": "execute_result"
    }
   ],
   "source": [
    "# splitting arrays\n",
    "import numpy as np\n",
    "A=np.arange((16)).reshape((4,4))\n",
    "A"
   ]
  },
  {
   "cell_type": "code",
   "execution_count": 61,
   "id": "4e0c2b12-24d1-4462-b2f3-eb607c304fbd",
   "metadata": {},
   "outputs": [
    {
     "data": {
      "text/plain": [
       "array([[ 0,  1],\n",
       "       [ 4,  5],\n",
       "       [ 8,  9],\n",
       "       [12, 13]])"
      ]
     },
     "execution_count": 61,
     "metadata": {},
     "output_type": "execute_result"
    }
   ],
   "source": [
    "# if you want to split array into two parts horizontaly\n",
    "[B,C]=np.hsplit(A,2)\n",
    "B"
   ]
  },
  {
   "cell_type": "code",
   "execution_count": 62,
   "id": "0e17ea30-e6bc-45e0-88eb-20fee85a4b09",
   "metadata": {},
   "outputs": [
    {
     "data": {
      "text/plain": [
       "array([[ 2,  3],\n",
       "       [ 6,  7],\n",
       "       [10, 11],\n",
       "       [14, 15]])"
      ]
     },
     "execution_count": 62,
     "metadata": {},
     "output_type": "execute_result"
    }
   ],
   "source": [
    "C"
   ]
  },
  {
   "cell_type": "code",
   "execution_count": 63,
   "id": "05745199-0047-4993-82d6-05c322bd8a63",
   "metadata": {},
   "outputs": [
    {
     "data": {
      "text/plain": [
       "array([[0, 1, 2, 3],\n",
       "       [4, 5, 6, 7]])"
      ]
     },
     "execution_count": 63,
     "metadata": {},
     "output_type": "execute_result"
    }
   ],
   "source": [
    "[B,C]=np.vsplit(A,2)\n",
    "B"
   ]
  },
  {
   "cell_type": "code",
   "execution_count": 64,
   "id": "77a9a531-0807-4ed3-8c8d-a7ac1d6380c8",
   "metadata": {},
   "outputs": [
    {
     "data": {
      "text/plain": [
       "array([[ 8,  9, 10, 11],\n",
       "       [12, 13, 14, 15]])"
      ]
     },
     "execution_count": 64,
     "metadata": {},
     "output_type": "execute_result"
    }
   ],
   "source": [
    "C"
   ]
  },
  {
   "cell_type": "code",
   "execution_count": 67,
   "id": "768c9b59-6d5e-4bc8-99fd-7210f8d09503",
   "metadata": {},
   "outputs": [
    {
     "data": {
      "text/plain": [
       "array([[ 0],\n",
       "       [ 4],\n",
       "       [ 8],\n",
       "       [12]])"
      ]
     },
     "execution_count": 67,
     "metadata": {},
     "output_type": "execute_result"
    }
   ],
   "source": [
    "#TO split the array into many colums\n",
    "[A1,A2,A3]=np.split(A,[1,3],axis=1)\n",
    "A1"
   ]
  },
  {
   "cell_type": "code",
   "execution_count": 68,
   "id": "6e909476-3bf3-48bc-9bd6-1541820ed91a",
   "metadata": {},
   "outputs": [
    {
     "data": {
      "text/plain": [
       "array([[ 1,  2],\n",
       "       [ 5,  6],\n",
       "       [ 9, 10],\n",
       "       [13, 14]])"
      ]
     },
     "execution_count": 68,
     "metadata": {},
     "output_type": "execute_result"
    }
   ],
   "source": [
    "A2"
   ]
  },
  {
   "cell_type": "code",
   "execution_count": 69,
   "id": "a71c1834-b968-470c-bbda-47762db8dcfe",
   "metadata": {},
   "outputs": [
    {
     "data": {
      "text/plain": [
       "array([[ 3],\n",
       "       [ 7],\n",
       "       [11],\n",
       "       [15]])"
      ]
     },
     "execution_count": 69,
     "metadata": {},
     "output_type": "execute_result"
    }
   ],
   "source": [
    "A3"
   ]
  },
  {
   "cell_type": "code",
   "execution_count": 70,
   "id": "b592ce23-bf9d-48ee-b610-60ee103ce45e",
   "metadata": {},
   "outputs": [
    {
     "data": {
      "text/plain": [
       "array([[0, 1, 2, 3]])"
      ]
     },
     "execution_count": 70,
     "metadata": {},
     "output_type": "execute_result"
    }
   ],
   "source": [
    "# to split the array into many rows\n",
    "[A1,A2,A3]=np.split(A,[1,3],axis=0)\n",
    "A1"
   ]
  },
  {
   "cell_type": "code",
   "execution_count": 71,
   "id": "083432c3-5810-4a76-aa26-d094f08ebb49",
   "metadata": {},
   "outputs": [
    {
     "data": {
      "text/plain": [
       "array([[ 4,  5,  6,  7],\n",
       "       [ 8,  9, 10, 11]])"
      ]
     },
     "execution_count": 71,
     "metadata": {},
     "output_type": "execute_result"
    }
   ],
   "source": [
    "A2"
   ]
  },
  {
   "cell_type": "code",
   "execution_count": 72,
   "id": "5f414c13-3b2a-4127-98ed-6cc3cd545422",
   "metadata": {},
   "outputs": [
    {
     "data": {
      "text/plain": [
       "array([[12, 13, 14, 15]])"
      ]
     },
     "execution_count": 72,
     "metadata": {},
     "output_type": "execute_result"
    }
   ],
   "source": [
    "A3"
   ]
  },
  {
   "cell_type": "code",
   "execution_count": 73,
   "id": "67bd8350-76b4-462f-8909-58043ac8b543",
   "metadata": {},
   "outputs": [
    {
     "name": "stdout",
     "output_type": "stream",
     "text": [
      "[1 2 3 4]\n"
     ]
    }
   ],
   "source": [
    "# Copies or views of objects\n",
    "import numpy as np\n",
    "a=np.array([1,2,3,4])\n",
    "print(a)"
   ]
  },
  {
   "cell_type": "code",
   "execution_count": 74,
   "id": "07d54a54-bb7d-410e-9f88-f03c0a422976",
   "metadata": {},
   "outputs": [
    {
     "data": {
      "text/plain": [
       "array([1, 2, 3, 4])"
      ]
     },
     "execution_count": 74,
     "metadata": {},
     "output_type": "execute_result"
    }
   ],
   "source": [
    "b=a\n",
    "b"
   ]
  },
  {
   "cell_type": "code",
   "execution_count": 75,
   "id": "1235126a-06bc-4298-a9ff-a57e1ba4abdb",
   "metadata": {},
   "outputs": [
    {
     "data": {
      "text/plain": [
       "array([1, 2, 5, 4])"
      ]
     },
     "execution_count": 75,
     "metadata": {},
     "output_type": "execute_result"
    }
   ],
   "source": [
    "a[2]=5\n",
    "b"
   ]
  },
  {
   "cell_type": "code",
   "execution_count": 78,
   "id": "3466432e-dba3-4ed4-a38d-f52b1bb3e662",
   "metadata": {},
   "outputs": [
    {
     "data": {
      "text/plain": [
       "array([5, 6, 7, 8, 9])"
      ]
     },
     "execution_count": 78,
     "metadata": {},
     "output_type": "execute_result"
    }
   ],
   "source": [
    "import numpy as np\n",
    "c=np.array([5,6,7,8,9])\n",
    "c"
   ]
  },
  {
   "cell_type": "code",
   "execution_count": 85,
   "id": "fbd4b300-9664-4750-a749-e7ff924362ce",
   "metadata": {},
   "outputs": [
    {
     "data": {
      "text/plain": [
       "array([ 5,  6,  7,  8, 10])"
      ]
     },
     "execution_count": 85,
     "metadata": {},
     "output_type": "execute_result"
    }
   ],
   "source": [
    " d=c.copy()\n",
    "d\n",
    "# to use copy() function to copy one elements into other"
   ]
  },
  {
   "cell_type": "code",
   "execution_count": 80,
   "id": "644a3059-3564-4858-9f0b-b778ba125e0a",
   "metadata": {},
   "outputs": [
    {
     "data": {
      "text/plain": [
       "array([ 5,  6,  7,  8, 10])"
      ]
     },
     "execution_count": 80,
     "metadata": {},
     "output_type": "execute_result"
    }
   ],
   "source": [
    "c[4]=10\n",
    "c"
   ]
  },
  {
   "cell_type": "code",
   "execution_count": 81,
   "id": "45c088e3-abc3-497c-847c-7f684a8a39c1",
   "metadata": {},
   "outputs": [
    {
     "data": {
      "text/plain": [
       "array([ 5,  6,  7,  8, 10])"
      ]
     },
     "execution_count": 81,
     "metadata": {},
     "output_type": "execute_result"
    }
   ],
   "source": [
    "# to copy() function to copy one element into other\n",
    "e=c.copy()\n",
    "c"
   ]
  },
  {
   "cell_type": "code",
   "execution_count": 82,
   "id": "bfde0b5c-6645-4a89-8118-de285486c19b",
   "metadata": {},
   "outputs": [
    {
     "data": {
      "text/plain": [
       "array([ 5,  6,  7,  8, 10])"
      ]
     },
     "execution_count": 82,
     "metadata": {},
     "output_type": "execute_result"
    }
   ],
   "source": [
    "e"
   ]
  },
  {
   "cell_type": "code",
   "execution_count": 84,
   "id": "0df1c2e2-214b-4227-8be7-9ef37a801bcf",
   "metadata": {},
   "outputs": [
    {
     "data": {
      "text/plain": [
       "array([5, 6])"
      ]
     },
     "execution_count": 84,
     "metadata": {},
     "output_type": "execute_result"
    }
   ],
   "source": [
    "e=c[0:2]\n",
    "e"
   ]
  },
  {
   "cell_type": "code",
   "execution_count": 1,
   "id": "ccec4fbc-cf37-4a84-913c-d0a8f5dd9a93",
   "metadata": {},
   "outputs": [],
   "source": [
    "import numpy as np"
   ]
  },
  {
   "cell_type": "code",
   "execution_count": 3,
   "id": "2d195454-07ec-4690-ba7c-ca1020e8139b",
   "metadata": {},
   "outputs": [],
   "source": [
    "arr = np.array([1,2,3,4], ndmin=5)"
   ]
  },
  {
   "cell_type": "code",
   "execution_count": 4,
   "id": "fbf928e2-084d-46c5-beb3-83493a104166",
   "metadata": {},
   "outputs": [
    {
     "name": "stdout",
     "output_type": "stream",
     "text": [
      "[[[[[1 2 3 4]]]]]\n"
     ]
    }
   ],
   "source": [
    "print(arr)"
   ]
  },
  {
   "cell_type": "code",
   "execution_count": 5,
   "id": "50beff59-2849-4d10-91d3-b00588221ab6",
   "metadata": {},
   "outputs": [
    {
     "name": "stdout",
     "output_type": "stream",
     "text": [
      "The dimension of the array: 5\n"
     ]
    }
   ],
   "source": [
    "print(\"The dimension of the array:\", arr.ndim)"
   ]
  },
  {
   "cell_type": "code",
   "execution_count": 6,
   "id": "1f20fe11-58f1-4884-a84c-dbc26d273fe5",
   "metadata": {},
   "outputs": [],
   "source": [
    "demo = np.array([[[1,2,3,4],[5,6,7,8]],[[9,10,11,12],[13,14,15,16]]])"
   ]
  },
  {
   "cell_type": "code",
   "execution_count": 7,
   "id": "22564480-e2b7-4af7-bd21-4db2c8ee5caa",
   "metadata": {},
   "outputs": [
    {
     "name": "stdout",
     "output_type": "stream",
     "text": [
      "[[[ 1  2  3  4]\n",
      "  [ 5  6  7  8]]\n",
      "\n",
      " [[ 9 10 11 12]\n",
      "  [13 14 15 16]]]\n"
     ]
    }
   ],
   "source": [
    "print(demo)"
   ]
  },
  {
   "cell_type": "code",
   "execution_count": 8,
   "id": "d5ae40d9-4cb2-49d6-b43a-463c0b6378f5",
   "metadata": {},
   "outputs": [
    {
     "name": "stdout",
     "output_type": "stream",
     "text": [
      "3\n"
     ]
    }
   ],
   "source": [
    "print(demo.ndim)"
   ]
  },
  {
   "cell_type": "code",
   "execution_count": 1,
   "id": "100bfcfd-f187-4a48-98b5-abe61e7b3898",
   "metadata": {},
   "outputs": [],
   "source": [
    "# fancy array is use to copy the data into a new array\n",
    "import numpy as np\n",
    "arr = np.empty((8,4))"
   ]
  },
  {
   "cell_type": "code",
   "execution_count": 3,
   "id": "79c69358-4a2e-4fa9-ab12-7680fcf1e13f",
   "metadata": {},
   "outputs": [],
   "source": [
    "for i in range(8):\n",
    "    arr[i] = i"
   ]
  },
  {
   "cell_type": "code",
   "execution_count": 4,
   "id": "62f80e28-49db-4b30-8174-7a0022462a37",
   "metadata": {},
   "outputs": [
    {
     "name": "stdout",
     "output_type": "stream",
     "text": [
      "[[0. 0. 0. 0.]\n",
      " [1. 1. 1. 1.]\n",
      " [2. 2. 2. 2.]\n",
      " [3. 3. 3. 3.]\n",
      " [4. 4. 4. 4.]\n",
      " [5. 5. 5. 5.]\n",
      " [6. 6. 6. 6.]\n",
      " [7. 7. 7. 7.]]\n"
     ]
    }
   ],
   "source": [
    "print(arr)"
   ]
  },
  {
   "cell_type": "code",
   "execution_count": 5,
   "id": "03d106cc-ccd5-4032-85dd-43482cdc228f",
   "metadata": {},
   "outputs": [
    {
     "data": {
      "text/plain": [
       "array([[4., 4., 4., 4.],\n",
       "       [3., 3., 3., 3.],\n",
       "       [0., 0., 0., 0.],\n",
       "       [6., 6., 6., 6.]])"
      ]
     },
     "execution_count": 5,
     "metadata": {},
     "output_type": "execute_result"
    }
   ],
   "source": [
    "arr[[4,3,0,6]]"
   ]
  },
  {
   "cell_type": "code",
   "execution_count": 6,
   "id": "1133540e-6104-4e76-9c2e-3f8e8c31babe",
   "metadata": {},
   "outputs": [
    {
     "data": {
      "text/plain": [
       "array([[0., 0., 0., 0.],\n",
       "       [1., 1., 1., 1.],\n",
       "       [3., 3., 3., 3.],\n",
       "       [2., 2., 2., 2.],\n",
       "       [4., 4., 4., 4.]])"
      ]
     },
     "execution_count": 6,
     "metadata": {},
     "output_type": "execute_result"
    }
   ],
   "source": [
    "arr[[0,1,3,2,4]]"
   ]
  },
  {
   "cell_type": "code",
   "execution_count": 9,
   "id": "2075addc-c1fb-4d82-824c-230d5cf24b77",
   "metadata": {},
   "outputs": [],
   "source": [
    "# transposing arra\n",
    "import numpy as np\n",
    "arr1 = np.arange(15).reshape((3,5))"
   ]
  },
  {
   "cell_type": "code",
   "execution_count": 10,
   "id": "387bd500-7bce-4c8f-82f9-6cf14bce5046",
   "metadata": {},
   "outputs": [
    {
     "name": "stdout",
     "output_type": "stream",
     "text": [
      "[[ 0  1  2  3  4]\n",
      " [ 5  6  7  8  9]\n",
      " [10 11 12 13 14]]\n"
     ]
    }
   ],
   "source": [
    "print(arr1)\n"
   ]
  },
  {
   "cell_type": "code",
   "execution_count": 11,
   "id": "eaca0edd-2d81-464e-8914-20b4519d5d39",
   "metadata": {},
   "outputs": [
    {
     "data": {
      "text/plain": [
       "array([[ 0,  5, 10],\n",
       "       [ 1,  6, 11],\n",
       "       [ 2,  7, 12],\n",
       "       [ 3,  8, 13],\n",
       "       [ 4,  9, 14]])"
      ]
     },
     "execution_count": 11,
     "metadata": {},
     "output_type": "execute_result"
    }
   ],
   "source": [
    "arr1.T"
   ]
  },
  {
   "cell_type": "code",
   "execution_count": 12,
   "id": "65cdf8ae-d124-4b0c-9ba5-3d0e9b853428",
   "metadata": {},
   "outputs": [],
   "source": [
    "arr2 = np.random.randn(6,3)"
   ]
  },
  {
   "cell_type": "code",
   "execution_count": 13,
   "id": "98a6abfe-3eb4-4be9-8915-540d25ce9b43",
   "metadata": {},
   "outputs": [
    {
     "data": {
      "text/plain": [
       "array([[ 0.47731691, -0.07168422,  0.80826542],\n",
       "       [-0.01145039,  0.15455789, -2.32645673],\n",
       "       [-1.41102256, -0.37799011,  1.20112329],\n",
       "       [ 0.04873532, -1.66311064, -0.87720827],\n",
       "       [-0.4186483 , -0.5431926 , -0.96900253],\n",
       "       [ 0.05163517,  0.67111729,  0.15997916]])"
      ]
     },
     "execution_count": 13,
     "metadata": {},
     "output_type": "execute_result"
    }
   ],
   "source": [
    "arr2"
   ]
  },
  {
   "cell_type": "code",
   "execution_count": 17,
   "id": "19cad399-148e-4847-9417-e238e842b418",
   "metadata": {
    "tags": []
   },
   "outputs": [
    {
     "data": {
      "text/plain": [
       "array([[ 0,  1,  2,  3,  4],\n",
       "       [ 5,  6,  7,  8,  9],\n",
       "       [10, 11, 12, 13, 14]])"
      ]
     },
     "execution_count": 17,
     "metadata": {},
     "output_type": "execute_result"
    }
   ],
   "source": [
    "arr1.swapaxes(1,1)"
   ]
  },
  {
   "cell_type": "raw",
   "id": "fcf0bb71-56e7-4f26-85ac-972df569c318",
   "metadata": {},
   "source": []
  },
  {
   "cell_type": "code",
   "execution_count": null,
   "id": "c2483e6a-656b-4f33-b7a3-f64541cc7598",
   "metadata": {
    "tags": []
   },
   "outputs": [],
   "source": []
  }
 ],
 "metadata": {
  "kernelspec": {
   "display_name": "Python 3 (ipykernel)",
   "language": "python",
   "name": "python3"
  },
  "language_info": {
   "codemirror_mode": {
    "name": "ipython",
    "version": 3
   },
   "file_extension": ".py",
   "mimetype": "text/x-python",
   "name": "python",
   "nbconvert_exporter": "python",
   "pygments_lexer": "ipython3",
   "version": "3.9.12"
  }
 },
 "nbformat": 4,
 "nbformat_minor": 5
}
